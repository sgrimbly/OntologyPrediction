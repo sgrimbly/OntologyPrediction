{
 "metadata": {
  "language_info": {
   "codemirror_mode": {
    "name": "ipython",
    "version": 3
   },
   "file_extension": ".py",
   "mimetype": "text/x-python",
   "name": "python",
   "nbconvert_exporter": "python",
   "pygments_lexer": "ipython3",
   "version": "3.7.10"
  },
  "orig_nbformat": 2,
  "kernelspec": {
   "name": "python3710jvsc74a57bd0c0ef04e15ce50342bb0993d11e3c3e73c32a980933fa5dfb7fd0ab9e1b670130",
   "display_name": "Python 3.7.10 64-bit ('deepchain-env': conda)"
  }
 },
 "nbformat": 4,
 "nbformat_minor": 2,
 "cells": [
  {
   "cell_type": "code",
   "execution_count": 10,
   "metadata": {},
   "outputs": [],
   "source": [
    "from biodatasets import list_datasets, load_dataset\n",
    "import pickle\n",
    "import pandas as pd\n",
    "import numpy as np"
   ]
  },
  {
   "cell_type": "code",
   "execution_count": 11,
   "metadata": {},
   "outputs": [
    {
     "output_type": "execute_result",
     "data": {
      "text/plain": [
       "['pathogen',\n",
       " 'pfam-32.0',\n",
       " 'swissProt',\n",
       " 'antibodybinding',\n",
       " 'ontologyprediction',\n",
       " 'netmhcpan-4.1-train',\n",
       " 'ontologyprediction-test',\n",
       " 'test_pdb',\n",
       " 'test']"
      ]
     },
     "metadata": {},
     "execution_count": 11
    }
   ],
   "source": [
    "list_datasets()"
   ]
  },
  {
   "cell_type": "code",
   "execution_count": 12,
   "metadata": {},
   "outputs": [],
   "source": [
    "optest = load_dataset(\"ontologyprediction-test\")"
   ]
  },
  {
   "cell_type": "code",
   "execution_count": 13,
   "metadata": {},
   "outputs": [
    {
     "output_type": "execute_result",
     "data": {
      "text/plain": [
       "Dataset(name=ontologyprediction-test, available_embeddings=set())"
      ]
     },
     "metadata": {},
     "execution_count": 13
    }
   ],
   "source": [
    "optest"
   ]
  },
  {
   "cell_type": "code",
   "execution_count": 14,
   "metadata": {},
   "outputs": [],
   "source": [
    "labels = pickle.load(open(str(optest.path) + '/labels.pkl', 'rb'))"
   ]
  },
  {
   "cell_type": "code",
   "execution_count": 15,
   "metadata": {},
   "outputs": [
    {
     "output_type": "stream",
     "name": "stdout",
     "text": [
      "\u001b[1m\u001b[34mdata_pdb\u001b[m\u001b[m/                  generate_feats.py\n\u001b[1m\u001b[34mfor_biodataset_subset\u001b[m\u001b[m/     \u001b[1m\u001b[34mmy_testing_data\u001b[m\u001b[m/\n\u001b[1m\u001b[34mfor_biodatasets\u001b[m\u001b[m/           test_biodatasets.ipynb\ngenerate_embeddings.ipynb  to_csv.ipynb\ngenerate_embeddings.py\n"
     ]
    }
   ],
   "source": [
    "ls"
   ]
  },
  {
   "cell_type": "code",
   "execution_count": 16,
   "metadata": {},
   "outputs": [
    {
     "output_type": "execute_result",
     "data": {
      "text/plain": [
       "    Unnamed: 0 protein_id                                           sequence\n",
       "0            0      12asA  AYIAKQRQISFVKSHFSRQLEERLGLIEVQAPILSRVGDGTQDNLS...\n",
       "1            1      139lA  MNIFEMLRIDEGLRLKIYKDTEGYYTIGIGHLLTKSPSLNAAKSEL...\n",
       "2            2      169lA  MNIFEMLRIDEGLRLKIYKDTEGYYTIGIGHLLTKSPSLNAAKSEL...\n",
       "3            3      174lA  MNIFEMLRIDEGLRLKIYKDTEGYYTIGIGHLLAAAADLAAAKAAL...\n",
       "4            4      192lA  MNIFEMLRIDEGLRLKIYKDTEGYYTIGIGHLLTKSPSLAAAKAAL...\n",
       "..         ...        ...                                                ...\n",
       "59          59      1aqkL  ENVLTQPPSVSGAPGQRVTISCTGSNSNIGAGFTVHWYQHLPGTAP...\n",
       "60          60      1aquA  EYYEVFGEFRGVLMDKRFTKYWEDVEMFLARPDDLVIATYPKSGTT...\n",
       "61          61      1athB  PMCIYVWELSKANSRFATTFYQHLADSKNDNDNIFLSPLSISTAFA...\n",
       "62          62      1atiA  AASSLDELVALCKRRGFIFQSSEIYGGLQGVYDYGPLGVELKNNLK...\n",
       "63          63      1attA  VEDVCTAKPRDIPVNPMCIYRATEGQGSEQKIPGATNRRVWELSKA...\n",
       "\n",
       "[64 rows x 3 columns]"
      ],
      "text/html": "<div>\n<style scoped>\n    .dataframe tbody tr th:only-of-type {\n        vertical-align: middle;\n    }\n\n    .dataframe tbody tr th {\n        vertical-align: top;\n    }\n\n    .dataframe thead th {\n        text-align: right;\n    }\n</style>\n<table border=\"1\" class=\"dataframe\">\n  <thead>\n    <tr style=\"text-align: right;\">\n      <th></th>\n      <th>Unnamed: 0</th>\n      <th>protein_id</th>\n      <th>sequence</th>\n    </tr>\n  </thead>\n  <tbody>\n    <tr>\n      <th>0</th>\n      <td>0</td>\n      <td>12asA</td>\n      <td>AYIAKQRQISFVKSHFSRQLEERLGLIEVQAPILSRVGDGTQDNLS...</td>\n    </tr>\n    <tr>\n      <th>1</th>\n      <td>1</td>\n      <td>139lA</td>\n      <td>MNIFEMLRIDEGLRLKIYKDTEGYYTIGIGHLLTKSPSLNAAKSEL...</td>\n    </tr>\n    <tr>\n      <th>2</th>\n      <td>2</td>\n      <td>169lA</td>\n      <td>MNIFEMLRIDEGLRLKIYKDTEGYYTIGIGHLLTKSPSLNAAKSEL...</td>\n    </tr>\n    <tr>\n      <th>3</th>\n      <td>3</td>\n      <td>174lA</td>\n      <td>MNIFEMLRIDEGLRLKIYKDTEGYYTIGIGHLLAAAADLAAAKAAL...</td>\n    </tr>\n    <tr>\n      <th>4</th>\n      <td>4</td>\n      <td>192lA</td>\n      <td>MNIFEMLRIDEGLRLKIYKDTEGYYTIGIGHLLTKSPSLAAAKAAL...</td>\n    </tr>\n    <tr>\n      <th>...</th>\n      <td>...</td>\n      <td>...</td>\n      <td>...</td>\n    </tr>\n    <tr>\n      <th>59</th>\n      <td>59</td>\n      <td>1aqkL</td>\n      <td>ENVLTQPPSVSGAPGQRVTISCTGSNSNIGAGFTVHWYQHLPGTAP...</td>\n    </tr>\n    <tr>\n      <th>60</th>\n      <td>60</td>\n      <td>1aquA</td>\n      <td>EYYEVFGEFRGVLMDKRFTKYWEDVEMFLARPDDLVIATYPKSGTT...</td>\n    </tr>\n    <tr>\n      <th>61</th>\n      <td>61</td>\n      <td>1athB</td>\n      <td>PMCIYVWELSKANSRFATTFYQHLADSKNDNDNIFLSPLSISTAFA...</td>\n    </tr>\n    <tr>\n      <th>62</th>\n      <td>62</td>\n      <td>1atiA</td>\n      <td>AASSLDELVALCKRRGFIFQSSEIYGGLQGVYDYGPLGVELKNNLK...</td>\n    </tr>\n    <tr>\n      <th>63</th>\n      <td>63</td>\n      <td>1attA</td>\n      <td>VEDVCTAKPRDIPVNPMCIYRATEGQGSEQKIPGATNRRVWELSKA...</td>\n    </tr>\n  </tbody>\n</table>\n<p>64 rows × 3 columns</p>\n</div>"
     },
     "metadata": {},
     "execution_count": 16
    }
   ],
   "source": [
    "pd.read_csv(str(optest.path) + '/function_prediction.csv')"
   ]
  },
  {
   "cell_type": "code",
   "execution_count": 17,
   "metadata": {},
   "outputs": [
    {
     "output_type": "execute_result",
     "data": {
      "text/plain": [
       "array([ 3.28042454e+00,  5.00898236e-01,  1.47681370e+00,  1.60525666e+00,\n",
       "        2.01526676e+00,  5.58365512e+00,  4.77860843e-01,  6.70805014e-01,\n",
       "       -0.00000000e+00,  5.29355185e+00,  9.00819277e-01,  6.72160943e-01,\n",
       "        2.91997889e-01,  3.60654303e+00,  3.75039431e-01,  5.86759073e-02,\n",
       "        3.71365066e-01,  4.59421838e+00,  5.65078299e+00, -0.00000000e+00,\n",
       "        2.69467704e+00,  1.70872689e+00,  2.37560101e+00, -0.00000000e+00,\n",
       "        7.36965594e-01,  1.43953206e+00,  2.15868622e-02,  8.13848684e-01,\n",
       "        1.52877967e+00,  1.32967561e+00,  1.03069680e+00,  1.48098639e-01,\n",
       "        3.71968777e-01,  1.70143916e+00,  8.53455550e-02,  1.95696375e-02,\n",
       "        6.86842115e-01,  3.42299072e+00,  7.04943921e-01,  3.79500410e+00,\n",
       "        4.98618067e-01,  7.63508861e-02,  2.10616155e-02, -0.00000000e+00,\n",
       "       -0.00000000e+00,  1.95777176e+00,  6.76385528e-01,  2.22392421e-01,\n",
       "        1.53343220e+00,  1.82532147e+00,  3.65258760e-02,  2.68670751e+00,\n",
       "        7.68194452e-01,  4.77982493e+00,  4.98212932e+00,  4.21997072e+00,\n",
       "        1.81072965e+00, -0.00000000e+00,  4.93845689e+00,  3.66724855e+00,\n",
       "        1.79921787e+00,  4.26264755e-01,  7.92006958e-01,  3.16113188e+00,\n",
       "        2.46597446e+00,  3.56054898e+00,  1.37517012e+00,  7.37806571e-01,\n",
       "        9.29226926e-01,  8.96906507e-01,  1.41715755e+00,  1.58731687e+00,\n",
       "        1.59893076e+00,  3.43515048e-02,  3.13656324e+00,  2.49825087e+00,\n",
       "        4.25596212e+00, -0.00000000e+00,  8.05780787e-01,  9.08466451e-01,\n",
       "        6.04739126e+00,  1.82926970e+00,  1.12755005e+00,  2.33586729e+00,\n",
       "        1.77399633e+00,  6.66576266e-01,  2.54168706e+00,  2.65173317e-01,\n",
       "        4.53589935e+00,  6.79040645e-02,  2.37812320e+00,  2.04263318e-01,\n",
       "        1.25594498e+00,  4.68311562e+00,  2.23678130e-02,  6.19688289e+00,\n",
       "        6.60944556e-01,  1.42951581e+00,  4.70384288e+00,  3.04006187e-01,\n",
       "        1.02553509e+00, -0.00000000e+00,  2.00519267e+00,  1.44099673e+00,\n",
       "        1.33969237e+00,  3.29076716e+00,  1.11547722e+00,  5.21236903e-01,\n",
       "       -0.00000000e+00, -0.00000000e+00,  2.95455884e-01,  2.09094621e+00,\n",
       "        2.15264701e+00,  3.57616938e+00,  3.99970051e-01,  2.25425687e-02,\n",
       "        5.82860978e-01,  3.11944006e-01,  1.94429057e+00,  2.61364526e+00,\n",
       "        5.61430780e-02, -0.00000000e+00,  2.57157839e-01,  3.61192039e+00,\n",
       "        2.05260743e+00,  5.69783156e+00,  1.52973298e+00,  2.39812772e+00,\n",
       "        3.51727569e+00,  1.37723547e+00,  1.70207561e+00,  7.33285248e-01,\n",
       "        2.25881407e-01,  2.29004021e-02, -0.00000000e+00,  1.79908731e+00,\n",
       "        3.29343588e+00,  3.21531690e+00,  1.59427024e+00, -0.00000000e+00,\n",
       "        4.68072262e-01,  6.56832083e+00,  6.41009811e-01,  3.89941316e-02,\n",
       "        9.86842749e-02,  2.10904276e+00,  1.15432815e+00,  5.77154979e-02,\n",
       "       -0.00000000e+00,  3.27899351e-02,  2.77449905e-02,  1.79940617e+00,\n",
       "        1.87203829e+00,  1.20681482e-01,  2.41747243e+00,  4.12621508e+00,\n",
       "        1.06915204e-01,  3.46597446e+00,  3.08122295e-01,  4.10756503e+00,\n",
       "        4.92435190e-02,  5.05133477e-01, -0.00000000e+00,  5.64587327e-01,\n",
       "        3.71529984e-02,  3.03736490e-02, -0.00000000e+00,  1.05889369e+00,\n",
       "        2.46620542e-02,  4.01571265e-02,  7.95180208e-01,  3.40978560e+00,\n",
       "        2.54062065e-01,  3.41768708e+00, -0.00000000e+00,  2.65881735e+00,\n",
       "        2.19264508e+00,  8.32890014e-01,  2.51857510e+00, -0.00000000e+00,\n",
       "        8.20141077e-01,  1.97632548e-02, -0.00000000e+00, -0.00000000e+00,\n",
       "       -0.00000000e+00, -0.00000000e+00,  1.73459858e+00,  1.10962449e+00,\n",
       "        1.44513953e+00,  2.93977143e+00,  1.38904229e+00,  3.00666373e+00,\n",
       "       -0.00000000e+00,  3.54777194e+00,  3.87516437e-01, -0.00000000e+00,\n",
       "        9.35044558e-01,  1.09163048e+00,  8.95302621e-01,  4.64607402e+00,\n",
       "        1.58812284e+00,  2.10209819e+00, -0.00000000e+00,  7.87119760e-02,\n",
       "        3.53736147e+00,  3.73486713e+00,  4.27748551e-01,  3.23112126e-03,\n",
       "        2.43045255e+00,  1.07155326e+00,  6.78071905e-01,  1.29689154e+00,\n",
       "       -0.00000000e+00,  4.05414869e+00,  3.30618867e+00,  7.23340881e-01,\n",
       "        1.22584385e+00,  1.27755547e-01,  3.91320437e+00,  2.99483829e+00,\n",
       "        7.36965594e-01,  1.72351278e+00,  3.84043053e+00,  1.28095631e+00,\n",
       "        1.06580206e+00,  9.87060944e-01,  5.12928302e+00,  7.64052562e-01,\n",
       "        1.18802681e+00,  6.81715026e-02,  2.58971603e+00,  5.73113192e+00,\n",
       "        6.46090814e-02,  7.19625465e+00,  1.97343028e+00,  3.47923303e-01,\n",
       "        2.44017706e+00,  9.21182020e-02,  2.61197545e+00,  4.30687219e-02,\n",
       "       -0.00000000e+00,  1.37503524e-01,  1.77291229e+00,  4.22282354e-02,\n",
       "        3.44156094e+00,  1.83031264e+00,  2.56704059e+00,  3.26500825e-01,\n",
       "        4.22691072e-01,  1.25525706e+00,  1.68805599e+00,  5.97341211e+00,\n",
       "        2.05062607e+00,  2.07585602e-02,  6.59053359e+00,  4.93814613e-01])"
      ]
     },
     "metadata": {},
     "execution_count": 17
    }
   ],
   "source": [
    "np.load(str(optest.path) + '/GOs.npy')"
   ]
  },
  {
   "cell_type": "code",
   "execution_count": null,
   "metadata": {},
   "outputs": [],
   "source": []
  }
 ]
}